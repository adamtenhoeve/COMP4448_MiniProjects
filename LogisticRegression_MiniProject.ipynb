{
 "cells": [
  {
   "cell_type": "markdown",
   "id": "71f02153",
   "metadata": {},
   "source": [
    "# Mini Project: Logistic Regression\n",
    "\n",
    "Written by Adam Ten Hoeve  \n",
    "COMP 4448 - Data Science Tools 2  \n",
    "Summer 2021"
   ]
  },
  {
   "cell_type": "code",
   "execution_count": 2,
   "id": "ef47b915",
   "metadata": {},
   "outputs": [],
   "source": [
    "# Load Required Libraries\n",
    "import numpy as np\n",
    "import pandas as pd\n",
    "\n",
    "import statsmodels.formula.api as smf"
   ]
  },
  {
   "cell_type": "markdown",
   "id": "4b2166e3",
   "metadata": {},
   "source": [
    "# Problem 2: Logistic Regression\n",
    "\n",
    "Find another dataset that is suitable for logistic regression. Run a logistic regression on the data using the statsmodel package. Print the results and interpret the parameter coefficients for each input variable. Evaluate the model as well. \n",
    "\n",
    "Dataset can be found at http://users.stat.ufl.edu/~winner/datasets.html located at \"Presence/Absence of Gold Deposits as Function of Water/Chemical characteristics in India.\""
   ]
  },
  {
   "cell_type": "code",
   "execution_count": 3,
   "id": "598ea279",
   "metadata": {},
   "outputs": [
    {
     "name": "stderr",
     "output_type": "stream",
     "text": [
      "D:\\Anaconda3\\lib\\site-packages\\pandas\\io\\parsers.py:2455: FutureWarning: split() requires a non-empty pattern match.\n",
      "  yield pat.split(line.strip())\n",
      "D:\\Anaconda3\\lib\\site-packages\\pandas\\io\\parsers.py:2458: FutureWarning: split() requires a non-empty pattern match.\n",
      "  yield pat.split(line.strip())\n"
     ]
    },
    {
     "data": {
      "text/html": [
       "<div>\n",
       "<style scoped>\n",
       "    .dataframe tbody tr th:only-of-type {\n",
       "        vertical-align: middle;\n",
       "    }\n",
       "\n",
       "    .dataframe tbody tr th {\n",
       "        vertical-align: top;\n",
       "    }\n",
       "\n",
       "    .dataframe thead th {\n",
       "        text-align: right;\n",
       "    }\n",
       "</style>\n",
       "<table border=\"1\" class=\"dataframe\">\n",
       "  <thead>\n",
       "    <tr style=\"text-align: right;\">\n",
       "      <th></th>\n",
       "      <th>As</th>\n",
       "      <th>Sb</th>\n",
       "      <th>Lineament</th>\n",
       "      <th>Gold</th>\n",
       "    </tr>\n",
       "  </thead>\n",
       "  <tbody>\n",
       "    <tr>\n",
       "      <td>0</td>\n",
       "      <td>6.77</td>\n",
       "      <td>3.08</td>\n",
       "      <td>1</td>\n",
       "      <td>1</td>\n",
       "    </tr>\n",
       "    <tr>\n",
       "      <td>1</td>\n",
       "      <td>15.03</td>\n",
       "      <td>6.15</td>\n",
       "      <td>1</td>\n",
       "      <td>1</td>\n",
       "    </tr>\n",
       "    <tr>\n",
       "      <td>2</td>\n",
       "      <td>6.43</td>\n",
       "      <td>2.35</td>\n",
       "      <td>1</td>\n",
       "      <td>1</td>\n",
       "    </tr>\n",
       "    <tr>\n",
       "      <td>3</td>\n",
       "      <td>0.10</td>\n",
       "      <td>0.30</td>\n",
       "      <td>0</td>\n",
       "      <td>0</td>\n",
       "    </tr>\n",
       "    <tr>\n",
       "      <td>4</td>\n",
       "      <td>0.10</td>\n",
       "      <td>0.30</td>\n",
       "      <td>0</td>\n",
       "      <td>0</td>\n",
       "    </tr>\n",
       "  </tbody>\n",
       "</table>\n",
       "</div>"
      ],
      "text/plain": [
       "      As    Sb  Lineament  Gold\n",
       "0   6.77  3.08          1     1\n",
       "1  15.03  6.15          1     1\n",
       "2   6.43  2.35          1     1\n",
       "3   0.10  0.30          0     0\n",
       "4   0.10  0.30          0     0"
      ]
     },
     "execution_count": 3,
     "metadata": {},
     "output_type": "execute_result"
    }
   ],
   "source": [
    "df_gold = pd.read_csv(\"gold.csv\", header=None, sep=r\"\\s*\", engine=\"python\")\n",
    "df_gold.columns = [\"As\", \"Sb\", \"Lineament\", \"Gold\"]\n",
    "df_gold.head()"
   ]
  },
  {
   "cell_type": "code",
   "execution_count": 4,
   "id": "f7dbd7c3",
   "metadata": {},
   "outputs": [
    {
     "name": "stdout",
     "output_type": "stream",
     "text": [
      "Optimization terminated successfully.\n",
      "         Current function value: 0.143014\n",
      "         Iterations 10\n",
      "                         Results: Logit\n",
      "=================================================================\n",
      "Model:              Logit            Pseudo R-squared: 0.791     \n",
      "Dependent Variable: Gold             AIC:              24.3058   \n",
      "Date:               2021-08-16 19:46 BIC:              30.7824   \n",
      "No. Observations:   64               Log-Likelihood:   -9.1529   \n",
      "Df Model:           2                LL-Null:          -43.860   \n",
      "Df Residuals:       61               LLR p-value:      8.4499e-16\n",
      "Converged:          1.0000           Scale:            1.0000    \n",
      "No. Iterations:     10.0000                                      \n",
      "------------------------------------------------------------------\n",
      "               Coef.   Std.Err.     z     P>|z|    [0.025   0.975]\n",
      "------------------------------------------------------------------\n",
      "Intercept     -4.9664    1.3676  -3.6316  0.0003  -7.6467  -2.2860\n",
      "As             1.2490    0.3777   3.3067  0.0009   0.5087   1.9894\n",
      "Sb             0.9235    0.4486   2.0587  0.0395   0.0443   1.8027\n",
      "=================================================================\n",
      "\n"
     ]
    }
   ],
   "source": [
    "# Fit the data with a statsmodels logit algorithm\n",
    "X_gold = df_gold[[\"As\", \"Sb\"]]\n",
    "y_gold = df_gold[\"Gold\"]\n",
    "\n",
    "lr_clf = smf.logit(\"Gold ~ As + Sb\", data=df_gold)\n",
    "results = lr_clf.fit()\n",
    "print(results.summary2())"
   ]
  },
  {
   "cell_type": "code",
   "execution_count": 5,
   "id": "f9001cb0",
   "metadata": {},
   "outputs": [
    {
     "data": {
      "text/plain": [
       "0.953125"
      ]
     },
     "execution_count": 5,
     "metadata": {},
     "output_type": "execute_result"
    }
   ],
   "source": [
    "# Evaluate the results\n",
    "# Predict the values of the training set\n",
    "preds_probs = results.predict(X_gold)\n",
    "preds = [1 if prob > 0.5 else 0 for prob in preds_probs]\n",
    "# Determine the accuracy of the model\n",
    "np.mean(y_gold == preds)"
   ]
  }
 ],
 "metadata": {
  "kernelspec": {
   "display_name": "Python 3",
   "language": "python",
   "name": "python3"
  },
  "language_info": {
   "codemirror_mode": {
    "name": "ipython",
    "version": 3
   },
   "file_extension": ".py",
   "mimetype": "text/x-python",
   "name": "python",
   "nbconvert_exporter": "python",
   "pygments_lexer": "ipython3",
   "version": "3.6.9"
  }
 },
 "nbformat": 4,
 "nbformat_minor": 5
}
